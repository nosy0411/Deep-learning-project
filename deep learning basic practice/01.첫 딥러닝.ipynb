{
 "cells": [
  {
   "cell_type": "markdown",
   "metadata": {},
   "source": [
    "# 01.첫 딥러닝"
   ]
  },
  {
   "cell_type": "markdown",
   "metadata": {},
   "source": [
    "# 폐암 수술 환자 생존율 예측\n",
    "### 딥러닝 모델을 세우고 학습을 수행하고 결과를 보는 전체 과정을 훑어봅니다.\n",
    "이번 예제는 텐서플로에 포함된 케라스를 사용한 버전입니다."
   ]
  },
  {
   "cell_type": "code",
   "execution_count": null,
   "metadata": {},
   "outputs": [],
   "source": [
    "# 딥러닝을 구동하는 데 필요한 파이썬 패키지를 불러옵니다.\n",
    "import numpy as np\n",
    "import tensorflow as tf"
   ]
  },
  {
   "cell_type": "code",
   "execution_count": null,
   "metadata": {},
   "outputs": [],
   "source": [
    "# 실행할 때마다 같은 결과를 출력하기 위해 설정하는 부분입니다.\n",
    "# - numpy 와 tensorflow 각각에 대해 랜덤 시드 설정이 필요합니다.\n",
    "seed = 0\n",
    "np.random.seed(seed)\n",
    "tf.compat.v1.random.set_random_seed(seed)"
   ]
  },
  {
   "cell_type": "code",
   "execution_count": null,
   "metadata": {},
   "outputs": [],
   "source": [
    "%pwd"
   ]
  },
  {
   "cell_type": "code",
   "execution_count": null,
   "metadata": {},
   "outputs": [],
   "source": [
    "np.loadtxt?"
   ]
  },
  {
   "cell_type": "code",
   "execution_count": null,
   "metadata": {},
   "outputs": [],
   "source": [
    "# 준비된 수술 환자 데이터를 불러들입니다.\n",
    "dataset = np.loadtxt(\"./dataset/ThoracicSurgery.csv\", delimiter=\",\")"
   ]
  },
  {
   "cell_type": "code",
   "execution_count": null,
   "metadata": {},
   "outputs": [],
   "source": [
    "type(dataset)"
   ]
  },
  {
   "cell_type": "code",
   "execution_count": null,
   "metadata": {},
   "outputs": [],
   "source": [
    "dataset.shape"
   ]
  },
  {
   "cell_type": "code",
   "execution_count": null,
   "metadata": {},
   "outputs": [],
   "source": [
    "dataset[:3]"
   ]
  },
  {
   "cell_type": "code",
   "execution_count": null,
   "metadata": {},
   "outputs": [],
   "source": [
    "dataset[0, 4]"
   ]
  },
  {
   "cell_type": "code",
   "execution_count": null,
   "metadata": {},
   "outputs": [],
   "source": [
    "# 환자의 기록과 수술 결과를 X와 Y로 구분하여 저장합니다.\n",
    "X_train = dataset[:, 0:17]\n",
    "Y_train = dataset[:, 17]"
   ]
  },
  {
   "cell_type": "code",
   "execution_count": null,
   "metadata": {},
   "outputs": [],
   "source": [
    "X_train.shape, Y_train.shape"
   ]
  },
  {
   "cell_type": "code",
   "execution_count": null,
   "metadata": {},
   "outputs": [],
   "source": [
    "tf.keras.layers.Dense?"
   ]
  },
  {
   "cell_type": "markdown",
   "metadata": {},
   "source": [
    "### 딥러닝 구조를 결정합니다(모델을 설정하고 실행하는 부분입니다).\n",
    "이곳에서 입력층, 은닉층, 출력층을 정의합니다.\n",
    "- 모델 생성\n",
    "- 층 추가"
   ]
  },
  {
   "cell_type": "code",
   "execution_count": null,
   "metadata": {},
   "outputs": [],
   "source": [
    "model = tf.keras.Sequential()\n",
    "model.add(tf.keras.layers.Dense(30, input_dim=17, activation='relu'))\n",
    "model.add(tf.keras.layers.Dense(1, activation='sigmoid'))"
   ]
  },
  {
   "cell_type": "markdown",
   "metadata": {},
   "source": [
    "### 딥러닝 환경 설정을 수행합니다.\n",
    "- 손실 함수\n",
    "- 옵티마이저\n",
    "- 측정지표(metrics)"
   ]
  },
  {
   "cell_type": "markdown",
   "metadata": {},
   "source": [
    "### 손실함수\n",
    "- 평균 제곱 계열: 보통 회귀 문제에 사용\n",
    "  * mean_squared_error: 평균 제곱 오차\n",
    "  * mean_absolute_error: 평균 절대 오차, 실젯값과 예측값 차이의 절댓값의 평균\n",
    "  * mean_absolute_percentage_error: 평균 절대 백분율 오차, 오차의 절댓값을 실젯값으로 나눈 값들의 평균\n",
    "  * mean_squared_logarithmic_error: 평균 제곱 로그 오차, 실젯값의 로그와 예측값의 로그의 오차에 대한 평균 제곱 오차\n",
    "\n",
    "\n",
    "- 교차 엔트로피 계열: 분류 문제에 주로 사용\n",
    "  * binary_crossentropy: 이항 교차 엔트로피(두 클래스 중 하나 예측)\n",
    "  * categorical_crossentropy: 범주형 교차 엔트로피(일반적인 분류)"
   ]
  },
  {
   "cell_type": "code",
   "execution_count": null,
   "metadata": {},
   "outputs": [],
   "source": [
    "# 'mse' 는 'mean_squared_error'의 별칭(https://keras.io/losses/)\n",
    "#model.compile(loss='mse', optimizer='adam', metrics=['acc', 'mse', 'mae'])\n",
    "model.compile(loss='mean_squared_error', optimizer='adam', metrics=['accuracy'])"
   ]
  },
  {
   "cell_type": "markdown",
   "metadata": {},
   "source": [
    "### 딥러닝을 실행합니다.\n",
    "모델을 학습시킵니다."
   ]
  },
  {
   "cell_type": "code",
   "execution_count": null,
   "metadata": {
    "scrolled": true
   },
   "outputs": [],
   "source": [
    "model.fit(X_train, Y_train, batch_size=30, epochs=30)"
   ]
  },
  {
   "cell_type": "code",
   "execution_count": null,
   "metadata": {},
   "outputs": [],
   "source": [
    "model.fit?"
   ]
  },
  {
   "cell_type": "code",
   "execution_count": null,
   "metadata": {},
   "outputs": [],
   "source": [
    "# evaluate() 에 의해 반환되는 데이터의 종류 확인\n",
    "print(f\"Metrics Name: {model.metrics_names}\")"
   ]
  },
  {
   "cell_type": "code",
   "execution_count": null,
   "metadata": {},
   "outputs": [],
   "source": [
    "# model.evaluate() 의 결과\n",
    "ev = model.evaluate(X_train, Y_train)\n",
    "print(f\"\\nmodel.evaluate() -> {ev}\")"
   ]
  },
  {
   "cell_type": "markdown",
   "metadata": {},
   "source": [
    "결과를 출력합니다."
   ]
  },
  {
   "cell_type": "code",
   "execution_count": null,
   "metadata": {},
   "outputs": [],
   "source": [
    "print(f\"Accuracy: {ev[1]:{0}.{4}}\")\n",
    "print(f\" Loss: {ev[0]}\")\n",
    "print(f\" Loss: {ev[0]:{10}}\")\n",
    "print(f\" Loss: {ev[0]:{10}.{4}}\")"
   ]
  },
  {
   "cell_type": "code",
   "execution_count": null,
   "metadata": {},
   "outputs": [],
   "source": []
  }
 ],
 "metadata": {
  "kernelspec": {
   "display_name": "Python 3",
   "language": "python",
   "name": "python3"
  },
  "language_info": {
   "codemirror_mode": {
    "name": "ipython",
    "version": 3
   },
   "file_extension": ".py",
   "mimetype": "text/x-python",
   "name": "python",
   "nbconvert_exporter": "python",
   "pygments_lexer": "ipython3",
   "version": "3.7.5"
  }
 },
 "nbformat": 4,
 "nbformat_minor": 2
}
