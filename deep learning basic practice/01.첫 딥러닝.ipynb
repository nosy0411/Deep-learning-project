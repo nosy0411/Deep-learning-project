{
 "cells": [
  {
   "cell_type": "markdown",
   "metadata": {},
   "source": [
    "# 01.첫 딥러닝"
   ]
  },
  {
   "cell_type": "markdown",
   "metadata": {},
   "source": [
    "# 폐암 수술 환자 생존율 예측\n",
    "### 딥러닝 모델을 세우고 학습을 수행하고 결과를 보는 전체 과정을 훑어봅니다.\n",
    "이번 예제는 텐서플로에 포함된 케라스를 사용한 버전입니다."
   ]
  },
  {
   "cell_type": "code",
   "execution_count": 1,
   "metadata": {
    "tags": []
   },
   "outputs": [
    {
     "output_type": "stream",
     "name": "stdout",
     "text": "1.9.0\n"
    }
   ],
   "source": [
    "# 딥러닝을 구동하는 데 필요한 파이썬 패키지를 불러옵니다.\n",
    "import numpy as np\n",
    "import tensorflow as tf\n",
    "print(tf.__version__)"
   ]
  },
  {
   "cell_type": "code",
   "execution_count": null,
   "metadata": {},
   "outputs": [],
   "source": [
    "#Tensorflow v1 기능만 사용 (v2 기능 강제 차단)\n",
    "# import tensorflow.compat.v1 as tf\n",
    "# tf.disable_v2_behavior()"
   ]
  },
  {
   "cell_type": "code",
   "execution_count": 13,
   "metadata": {},
   "outputs": [],
   "source": [
    "# 실행할 때마다 같은 결과를 출력하기 위해 설정하는 부분입니다.\n",
    "# - numpy 와 tensorflow 각각에 대해 랜덤 시드 설정이 필요합니다.\n",
    "seed = 0\n",
    "np.random.seed(seed)\n",
    "# tf.compat.v1.random.set_random_seed(seed)\n",
    "tf.set_random_seed(777)"
   ]
  },
  {
   "cell_type": "code",
   "execution_count": 14,
   "metadata": {},
   "outputs": [
    {
     "output_type": "execute_result",
     "data": {
      "text/plain": "'c:\\\\Users\\\\inventor\\\\Desktop\\\\data project\\\\Deep-learning-project\\\\deep learning basic practice'"
     },
     "metadata": {},
     "execution_count": 14
    }
   ],
   "source": [
    "%pwd"
   ]
  },
  {
   "cell_type": "code",
   "execution_count": 15,
   "metadata": {},
   "outputs": [
    {
     "output_type": "stream",
     "text": "\u001b[1;31mSignature:\u001b[0m\n\u001b[0mnp\u001b[0m\u001b[1;33m.\u001b[0m\u001b[0mloadtxt\u001b[0m\u001b[1;33m(\u001b[0m\u001b[1;33m\n\u001b[0m    \u001b[0mfname\u001b[0m\u001b[1;33m,\u001b[0m\u001b[1;33m\n\u001b[0m    \u001b[0mdtype\u001b[0m\u001b[1;33m=\u001b[0m\u001b[1;33m<\u001b[0m\u001b[1;32mclass\u001b[0m \u001b[1;34m'float'\u001b[0m\u001b[1;33m>\u001b[0m\u001b[1;33m,\u001b[0m\u001b[1;33m\n\u001b[0m    \u001b[0mcomments\u001b[0m\u001b[1;33m=\u001b[0m\u001b[1;34m'#'\u001b[0m\u001b[1;33m,\u001b[0m\u001b[1;33m\n\u001b[0m    \u001b[0mdelimiter\u001b[0m\u001b[1;33m=\u001b[0m\u001b[1;32mNone\u001b[0m\u001b[1;33m,\u001b[0m\u001b[1;33m\n\u001b[0m    \u001b[0mconverters\u001b[0m\u001b[1;33m=\u001b[0m\u001b[1;32mNone\u001b[0m\u001b[1;33m,\u001b[0m\u001b[1;33m\n\u001b[0m    \u001b[0mskiprows\u001b[0m\u001b[1;33m=\u001b[0m\u001b[1;36m0\u001b[0m\u001b[1;33m,\u001b[0m\u001b[1;33m\n\u001b[0m    \u001b[0musecols\u001b[0m\u001b[1;33m=\u001b[0m\u001b[1;32mNone\u001b[0m\u001b[1;33m,\u001b[0m\u001b[1;33m\n\u001b[0m    \u001b[0munpack\u001b[0m\u001b[1;33m=\u001b[0m\u001b[1;32mFalse\u001b[0m\u001b[1;33m,\u001b[0m\u001b[1;33m\n\u001b[0m    \u001b[0mndmin\u001b[0m\u001b[1;33m=\u001b[0m\u001b[1;36m0\u001b[0m\u001b[1;33m,\u001b[0m\u001b[1;33m\n\u001b[0m    \u001b[0mencoding\u001b[0m\u001b[1;33m=\u001b[0m\u001b[1;34m'bytes'\u001b[0m\u001b[1;33m,\u001b[0m\u001b[1;33m\n\u001b[0m    \u001b[0mmax_rows\u001b[0m\u001b[1;33m=\u001b[0m\u001b[1;32mNone\u001b[0m\u001b[1;33m,\u001b[0m\u001b[1;33m\n\u001b[0m\u001b[1;33m)\u001b[0m\u001b[1;33m\u001b[0m\u001b[1;33m\u001b[0m\u001b[0m\n\u001b[1;31mDocstring:\u001b[0m\nLoad data from a text file.\n\nEach row in the text file must have the same number of values.\n\nParameters\n----------\nfname : file, str, or pathlib.Path\n    File, filename, or generator to read.  If the filename extension is\n    ``.gz`` or ``.bz2``, the file is first decompressed. Note that\n    generators should return byte strings.\ndtype : data-type, optional\n    Data-type of the resulting array; default: float.  If this is a\n    structured data-type, the resulting array will be 1-dimensional, and\n    each row will be interpreted as an element of the array.  In this\n    case, the number of columns used must match the number of fields in\n    the data-type.\ncomments : str or sequence of str, optional\n    The characters or list of characters used to indicate the start of a\n    comment. None implies no comments. For backwards compatibility, byte\n    strings will be decoded as 'latin1'. The default is '#'.\ndelimiter : str, optional\n    The string used to separate values. For backwards compatibility, byte\n    strings will be decoded as 'latin1'. The default is whitespace.\nconverters : dict, optional\n    A dictionary mapping column number to a function that will parse the\n    column string into the desired value.  E.g., if column 0 is a date\n    string: ``converters = {0: datestr2num}``.  Converters can also be\n    used to provide a default value for missing data (but see also\n    `genfromtxt`): ``converters = {3: lambda s: float(s.strip() or 0)}``.\n    Default: None.\nskiprows : int, optional\n    Skip the first `skiprows` lines, including comments; default: 0.\nusecols : int or sequence, optional\n    Which columns to read, with 0 being the first. For example,\n    ``usecols = (1,4,5)`` will extract the 2nd, 5th and 6th columns.\n    The default, None, results in all columns being read.\n\n    .. versionchanged:: 1.11.0\n        When a single column has to be read it is possible to use\n        an integer instead of a tuple. E.g ``usecols = 3`` reads the\n        fourth column the same way as ``usecols = (3,)`` would.\nunpack : bool, optional\n    If True, the returned array is transposed, so that arguments may be\n    unpacked using ``x, y, z = loadtxt(...)``.  When used with a structured\n    data-type, arrays are returned for each field.  Default is False.\nndmin : int, optional\n    The returned array will have at least `ndmin` dimensions.\n    Otherwise mono-dimensional axes will be squeezed.\n    Legal values: 0 (default), 1 or 2.\n\n    .. versionadded:: 1.6.0\nencoding : str, optional\n    Encoding used to decode the inputfile. Does not apply to input streams.\n    The special value 'bytes' enables backward compatibility workarounds\n    that ensures you receive byte arrays as results if possible and passes\n    'latin1' encoded strings to converters. Override this value to receive\n    unicode arrays and pass strings as input to converters.  If set to None\n    the system default is used. The default value is 'bytes'.\n\n    .. versionadded:: 1.14.0\nmax_rows : int, optional\n    Read `max_rows` lines of content after `skiprows` lines. The default\n    is to read all the lines.\n\n    .. versionadded:: 1.16.0\n\nReturns\n-------\nout : ndarray\n    Data read from the text file.\n\nSee Also\n--------\nload, fromstring, fromregex\ngenfromtxt : Load data with missing values handled as specified.\nscipy.io.loadmat : reads MATLAB data files\n\nNotes\n-----\nThis function aims to be a fast reader for simply formatted files.  The\n`genfromtxt` function provides more sophisticated handling of, e.g.,\nlines with missing values.\n\n.. versionadded:: 1.10.0\n\nThe strings produced by the Python float.hex method can be used as\ninput for floats.\n\nExamples\n--------\n>>> from io import StringIO   # StringIO behaves like a file object\n>>> c = StringIO(\"0 1\\n2 3\")\n>>> np.loadtxt(c)\narray([[0., 1.],\n       [2., 3.]])\n\n>>> d = StringIO(\"M 21 72\\nF 35 58\")\n>>> np.loadtxt(d, dtype={'names': ('gender', 'age', 'weight'),\n...                      'formats': ('S1', 'i4', 'f4')})\narray([(b'M', 21, 72.), (b'F', 35, 58.)],\n      dtype=[('gender', 'S1'), ('age', '<i4'), ('weight', '<f4')])\n\n>>> c = StringIO(\"1,0,2\\n3,0,4\")\n>>> x, y = np.loadtxt(c, delimiter=',', usecols=(0, 2), unpack=True)\n>>> x\narray([1., 3.])\n>>> y\narray([2., 4.])\n\nThis example shows how `converters` can be used to convert a field\nwith a trailing minus sign into a negative number.\n\n>>> s = StringIO('10.01 31.25-\\n19.22 64.31\\n17.57- 63.94')\n>>> def conv(fld):\n...     return -float(fld[:-1]) if fld.endswith(b'-') else float(fld)\n...\n>>> np.loadtxt(s, converters={0: conv, 1: conv})\narray([[ 10.01, -31.25],\n       [ 19.22,  64.31],\n       [-17.57,  63.94]])\n\u001b[1;31mFile:\u001b[0m      c:\\anaconda3\\lib\\site-packages\\numpy\\lib\\npyio.py\n\u001b[1;31mType:\u001b[0m      function\n"
    }
   ],
   "source": [
    "np.loadtxt?"
   ]
  },
  {
   "cell_type": "code",
   "execution_count": 16,
   "metadata": {},
   "outputs": [],
   "source": [
    "# 준비된 수술 환자 데이터를 불러들입니다.\n",
    "dataset = np.loadtxt(\"./dataset/ThoracicSurgery.csv\", delimiter=\",\")"
   ]
  },
  {
   "cell_type": "code",
   "execution_count": 17,
   "metadata": {},
   "outputs": [
    {
     "output_type": "execute_result",
     "data": {
      "text/plain": "numpy.ndarray"
     },
     "metadata": {},
     "execution_count": 17
    }
   ],
   "source": [
    "type(dataset)"
   ]
  },
  {
   "cell_type": "code",
   "execution_count": 19,
   "metadata": {},
   "outputs": [
    {
     "output_type": "execute_result",
     "data": {
      "text/plain": "(470, 18)"
     },
     "metadata": {},
     "execution_count": 19
    }
   ],
   "source": [
    "dataset.shape"
   ]
  },
  {
   "cell_type": "code",
   "execution_count": 20,
   "metadata": {},
   "outputs": [
    {
     "output_type": "execute_result",
     "data": {
      "text/plain": "array([[293.  ,   1.  ,   3.8 ,   2.8 ,   0.  ,   0.  ,   0.  ,   0.  ,\n          0.  ,   0.  ,  12.  ,   0.  ,   0.  ,   0.  ,   1.  ,   0.  ,\n         62.  ,   0.  ],\n       [  1.  ,   2.  ,   2.88,   2.16,   1.  ,   0.  ,   0.  ,   0.  ,\n          1.  ,   1.  ,  14.  ,   0.  ,   0.  ,   0.  ,   1.  ,   0.  ,\n         60.  ,   0.  ],\n       [  8.  ,   2.  ,   3.19,   2.5 ,   1.  ,   0.  ,   0.  ,   0.  ,\n          1.  ,   0.  ,  11.  ,   0.  ,   0.  ,   1.  ,   1.  ,   0.  ,\n         66.  ,   1.  ]])"
     },
     "metadata": {},
     "execution_count": 20
    }
   ],
   "source": [
    "dataset[:3]"
   ]
  },
  {
   "cell_type": "code",
   "execution_count": 21,
   "metadata": {},
   "outputs": [
    {
     "output_type": "execute_result",
     "data": {
      "text/plain": "0.0"
     },
     "metadata": {},
     "execution_count": 21
    }
   ],
   "source": [
    "dataset[0, 4]"
   ]
  },
  {
   "cell_type": "code",
   "execution_count": 22,
   "metadata": {},
   "outputs": [],
   "source": [
    "# 환자의 기록과 수술 결과를 X와 Y로 구분하여 저장합니다.\n",
    "X_train = dataset[:, 0:17]\n",
    "Y_train = dataset[:, 17]"
   ]
  },
  {
   "cell_type": "code",
   "execution_count": 23,
   "metadata": {},
   "outputs": [
    {
     "output_type": "execute_result",
     "data": {
      "text/plain": "((470, 17), (470,))"
     },
     "metadata": {},
     "execution_count": 23
    }
   ],
   "source": [
    "X_train.shape, Y_train.shape"
   ]
  },
  {
   "cell_type": "code",
   "execution_count": 24,
   "metadata": {},
   "outputs": [
    {
     "output_type": "stream",
     "text": "\u001b[1;31mInit signature:\u001b[0m\n\u001b[0mtf\u001b[0m\u001b[1;33m.\u001b[0m\u001b[0mkeras\u001b[0m\u001b[1;33m.\u001b[0m\u001b[0mlayers\u001b[0m\u001b[1;33m.\u001b[0m\u001b[0mDense\u001b[0m\u001b[1;33m(\u001b[0m\u001b[1;33m\n\u001b[0m    \u001b[0munits\u001b[0m\u001b[1;33m,\u001b[0m\u001b[1;33m\n\u001b[0m    \u001b[0mactivation\u001b[0m\u001b[1;33m=\u001b[0m\u001b[1;32mNone\u001b[0m\u001b[1;33m,\u001b[0m\u001b[1;33m\n\u001b[0m    \u001b[0muse_bias\u001b[0m\u001b[1;33m=\u001b[0m\u001b[1;32mTrue\u001b[0m\u001b[1;33m,\u001b[0m\u001b[1;33m\n\u001b[0m    \u001b[0mkernel_initializer\u001b[0m\u001b[1;33m=\u001b[0m\u001b[1;34m'glorot_uniform'\u001b[0m\u001b[1;33m,\u001b[0m\u001b[1;33m\n\u001b[0m    \u001b[0mbias_initializer\u001b[0m\u001b[1;33m=\u001b[0m\u001b[1;34m'zeros'\u001b[0m\u001b[1;33m,\u001b[0m\u001b[1;33m\n\u001b[0m    \u001b[0mkernel_regularizer\u001b[0m\u001b[1;33m=\u001b[0m\u001b[1;32mNone\u001b[0m\u001b[1;33m,\u001b[0m\u001b[1;33m\n\u001b[0m    \u001b[0mbias_regularizer\u001b[0m\u001b[1;33m=\u001b[0m\u001b[1;32mNone\u001b[0m\u001b[1;33m,\u001b[0m\u001b[1;33m\n\u001b[0m    \u001b[0mactivity_regularizer\u001b[0m\u001b[1;33m=\u001b[0m\u001b[1;32mNone\u001b[0m\u001b[1;33m,\u001b[0m\u001b[1;33m\n\u001b[0m    \u001b[0mkernel_constraint\u001b[0m\u001b[1;33m=\u001b[0m\u001b[1;32mNone\u001b[0m\u001b[1;33m,\u001b[0m\u001b[1;33m\n\u001b[0m    \u001b[0mbias_constraint\u001b[0m\u001b[1;33m=\u001b[0m\u001b[1;32mNone\u001b[0m\u001b[1;33m,\u001b[0m\u001b[1;33m\n\u001b[0m    \u001b[1;33m**\u001b[0m\u001b[0mkwargs\u001b[0m\u001b[1;33m,\u001b[0m\u001b[1;33m\n\u001b[0m\u001b[1;33m)\u001b[0m\u001b[1;33m\u001b[0m\u001b[1;33m\u001b[0m\u001b[0m\n\u001b[1;31mDocstring:\u001b[0m     \nJust your regular densely-connected NN layer.\n\n`Dense` implements the operation:\n`output = activation(dot(input, kernel) + bias)`\nwhere `activation` is the element-wise activation function\npassed as the `activation` argument, `kernel` is a weights matrix\ncreated by the layer, and `bias` is a bias vector created by the layer\n(only applicable if `use_bias` is `True`).\n\nNote: if the input to the layer has a rank greater than 2, then\nit is flattened prior to the initial dot product with `kernel`.\n\nExample:\n\n```python\n    # as first layer in a sequential model:\n    model = Sequential()\n    model.add(Dense(32, input_shape=(16,)))\n    # now the model will take as input arrays of shape (*, 16)\n    # and output arrays of shape (*, 32)\n\n    # after the first layer, you don't need to specify\n    # the size of the input anymore:\n    model.add(Dense(32))\n```\n\nArguments:\n    units: Positive integer, dimensionality of the output space.\n    activation: Activation function to use.\n        If you don't specify anything, no activation is applied\n        (ie. \"linear\" activation: `a(x) = x`).\n    use_bias: Boolean, whether the layer uses a bias vector.\n    kernel_initializer: Initializer for the `kernel` weights matrix.\n    bias_initializer: Initializer for the bias vector.\n    kernel_regularizer: Regularizer function applied to\n        the `kernel` weights matrix.\n    bias_regularizer: Regularizer function applied to the bias vector.\n    activity_regularizer: Regularizer function applied to\n        the output of the layer (its \"activation\")..\n    kernel_constraint: Constraint function applied to\n        the `kernel` weights matrix.\n    bias_constraint: Constraint function applied to the bias vector.\n\nInput shape:\n    nD tensor with shape: `(batch_size, ..., input_dim)`.\n    The most common situation would be\n    a 2D input with shape `(batch_size, input_dim)`.\n\nOutput shape:\n    nD tensor with shape: `(batch_size, ..., units)`.\n    For instance, for a 2D input with shape `(batch_size, input_dim)`,\n    the output would have shape `(batch_size, units)`.\n\u001b[1;31mFile:\u001b[0m           c:\\anaconda3\\lib\\site-packages\\tensorflow\\python\\keras\\layers\\core.py\n\u001b[1;31mType:\u001b[0m           type\n\u001b[1;31mSubclasses:\u001b[0m     Dense\n"
    }
   ],
   "source": [
    "tf.keras.layers.Dense?"
   ]
  },
  {
   "cell_type": "markdown",
   "metadata": {},
   "source": [
    "### 딥러닝 구조를 결정합니다(모델을 설정하고 실행하는 부분입니다).\n",
    "이곳에서 입력층, 은닉층, 출력층을 정의합니다.\n",
    "- 모델 생성\n",
    "- 층 추가"
   ]
  },
  {
   "cell_type": "code",
   "execution_count": 25,
   "metadata": {},
   "outputs": [],
   "source": [
    "model = tf.keras.Sequential()\n",
    "model.add(tf.keras.layers.Dense(30, input_dim=17, activation='relu'))\n",
    "model.add(tf.keras.layers.Dense(1, activation='sigmoid'))"
   ]
  },
  {
   "cell_type": "markdown",
   "metadata": {},
   "source": [
    "### 딥러닝 환경 설정을 수행합니다.\n",
    "- 손실 함수\n",
    "- 옵티마이저\n",
    "- 측정지표(metrics)"
   ]
  },
  {
   "cell_type": "markdown",
   "metadata": {},
   "source": [
    "### 손실함수\n",
    "- 평균 제곱 계열: 보통 회귀 문제에 사용\n",
    "  * mean_squared_error: 평균 제곱 오차\n",
    "  * mean_absolute_error: 평균 절대 오차, 실젯값과 예측값 차이의 절댓값의 평균\n",
    "  * mean_absolute_percentage_error: 평균 절대 백분율 오차, 오차의 절댓값을 실젯값으로 나눈 값들의 평균\n",
    "  * mean_squared_logarithmic_error: 평균 제곱 로그 오차, 실젯값의 로그와 예측값의 로그의 오차에 대한 평균 제곱 오차\n",
    "\n",
    "\n",
    "- 교차 엔트로피 계열: 분류 문제에 주로 사용\n",
    "  * binary_crossentropy: 이항 교차 엔트로피(두 클래스 중 하나 예측)\n",
    "  * categorical_crossentropy: 범주형 교차 엔트로피(일반적인 분류)"
   ]
  },
  {
   "cell_type": "code",
   "execution_count": 26,
   "metadata": {},
   "outputs": [],
   "source": [
    "# 'mse' 는 'mean_squared_error'의 별칭(https://keras.io/losses/)\n",
    "#model.compile(loss='mse', optimizer='adam', metrics=['acc', 'mse', 'mae'])\n",
    "model.compile(loss='mean_squared_error', optimizer='adam', metrics=['accuracy'])"
   ]
  },
  {
   "cell_type": "markdown",
   "metadata": {},
   "source": [
    "### 딥러닝을 실행합니다.\n",
    "모델을 학습시킵니다."
   ]
  },
  {
   "cell_type": "code",
   "execution_count": 27,
   "metadata": {
    "scrolled": true,
    "tags": []
   },
   "outputs": [
    {
     "output_type": "stream",
     "name": "stdout",
     "text": "Epoch 1/30\n470/470 [==============================] - 778s 2s/step - loss: 0.8121 - acc: 0.1723\nEpoch 2/30\n470/470 [==============================] - 0s 454us/step - loss: 0.6778 - acc: 0.3064\nEpoch 3/30\n470/470 [==============================] - 0s 344us/step - loss: 0.2739 - acc: 0.7149\nEpoch 4/30\n470/470 [==============================] - 0s 390us/step - loss: 0.1489 - acc: 0.8511\nEpoch 5/30\n300/470 [==================>...........] - ETA: 0s - loss: 0.1467 - acc: 0.853470/470 [==============================] - 0s 333us/step - loss: 0.1489 - acc: 0.8511\nEpoch 6/30\n470/470 [==============================] - 0s 274us/step - loss: 0.1489 - acc: 0.8511\nEpoch 7/30\n470/470 [==============================] - 0s 473us/step - loss: 0.1489 - acc: 0.8511\nEpoch 8/30\n470/470 [==============================] - 0s 516us/step - loss: 0.1489 - acc: 0.8511\nEpoch 9/30\n470/470 [==============================] - 0s 743us/step - loss: 0.1489 - acc: 0.8511\nEpoch 10/30\n470/470 [==============================] - 0s 490us/step - loss: 0.1489 - acc: 0.8511\nEpoch 11/30\n470/470 [==============================] - 0s 639us/step - loss: 0.1489 - acc: 0.8511\nEpoch 12/30\n470/470 [==============================] - 0s 524us/step - loss: 0.1489 - acc: 0.8511\nEpoch 13/30\n470/470 [==============================] - 0s 492us/step - loss: 0.1489 - acc: 0.8511\nEpoch 14/30\n470/470 [==============================] - 0s 541us/step - loss: 0.1489 - acc: 0.8511\nEpoch 15/30\n470/470 [==============================] - 0s 465us/step - loss: 0.1489 - acc: 0.8511\nEpoch 16/30\n470/470 [==============================] - 0s 569us/step - loss: 0.1489 - acc: 0.8511\nEpoch 17/30\n470/470 [==============================] - 0s 518us/step - loss: 0.1489 - acc: 0.8511\nEpoch 18/30\n470/470 [==============================] - 0s 469us/step - loss: 0.1489 - acc: 0.8511\nEpoch 19/30\n470/470 [==============================] - 0s 494us/step - loss: 0.1489 - acc: 0.8511\nEpoch 20/30\n470/470 [==============================] - 0s 615us/step - loss: 0.1489 - acc: 0.8511\nEpoch 21/30\n470/470 [==============================] - 0s 380us/step - loss: 0.1489 - acc: 0.8511\nEpoch 22/30\n470/470 [==============================] - 0s 329us/step - loss: 0.1489 - acc: 0.8511\nEpoch 23/30\n470/470 [==============================] - 0s 862us/step - loss: 0.1489 - acc: 0.8511\nEpoch 24/30\n470/470 [==============================] - 0s 815us/step - loss: 0.1489 - acc: 0.8511\nEpoch 25/30\n470/470 [==============================] - 0s 660us/step - loss: 0.1489 - acc: 0.8511\nEpoch 26/30\n470/470 [==============================] - 0s 611us/step - loss: 0.1489 - acc: 0.8511\nEpoch 27/30\n470/470 [==============================] - 0s 363us/step - loss: 0.1489 - acc: 0.8511\nEpoch 28/30\n470/470 [==============================] - 0s 418us/step - loss: 0.1489 - acc: 0.8511\nEpoch 29/30\n470/470 [==============================] - 0s 420us/step - loss: 0.1489 - acc: 0.8511\nEpoch 30/30\n470/470 [==============================] - 0s 420us/step - loss: 0.1489 - acc: 0.8511\n"
    },
    {
     "output_type": "execute_result",
     "data": {
      "text/plain": "<tensorflow.python.keras.callbacks.History at 0x21aa2c06780>"
     },
     "metadata": {},
     "execution_count": 27
    }
   ],
   "source": [
    "model.fit(X_train, Y_train, batch_size=30, epochs=30)"
   ]
  },
  {
   "cell_type": "code",
   "execution_count": 28,
   "metadata": {},
   "outputs": [
    {
     "output_type": "stream",
     "text": "\u001b[1;31mSignature:\u001b[0m\n\u001b[0mmodel\u001b[0m\u001b[1;33m.\u001b[0m\u001b[0mfit\u001b[0m\u001b[1;33m(\u001b[0m\u001b[1;33m\n\u001b[0m    \u001b[0mx\u001b[0m\u001b[1;33m=\u001b[0m\u001b[1;32mNone\u001b[0m\u001b[1;33m,\u001b[0m\u001b[1;33m\n\u001b[0m    \u001b[0my\u001b[0m\u001b[1;33m=\u001b[0m\u001b[1;32mNone\u001b[0m\u001b[1;33m,\u001b[0m\u001b[1;33m\n\u001b[0m    \u001b[0mbatch_size\u001b[0m\u001b[1;33m=\u001b[0m\u001b[1;32mNone\u001b[0m\u001b[1;33m,\u001b[0m\u001b[1;33m\n\u001b[0m    \u001b[0mepochs\u001b[0m\u001b[1;33m=\u001b[0m\u001b[1;36m1\u001b[0m\u001b[1;33m,\u001b[0m\u001b[1;33m\n\u001b[0m    \u001b[0mverbose\u001b[0m\u001b[1;33m=\u001b[0m\u001b[1;36m1\u001b[0m\u001b[1;33m,\u001b[0m\u001b[1;33m\n\u001b[0m    \u001b[0mcallbacks\u001b[0m\u001b[1;33m=\u001b[0m\u001b[1;32mNone\u001b[0m\u001b[1;33m,\u001b[0m\u001b[1;33m\n\u001b[0m    \u001b[0mvalidation_split\u001b[0m\u001b[1;33m=\u001b[0m\u001b[1;36m0.0\u001b[0m\u001b[1;33m,\u001b[0m\u001b[1;33m\n\u001b[0m    \u001b[0mvalidation_data\u001b[0m\u001b[1;33m=\u001b[0m\u001b[1;32mNone\u001b[0m\u001b[1;33m,\u001b[0m\u001b[1;33m\n\u001b[0m    \u001b[0mshuffle\u001b[0m\u001b[1;33m=\u001b[0m\u001b[1;32mTrue\u001b[0m\u001b[1;33m,\u001b[0m\u001b[1;33m\n\u001b[0m    \u001b[0mclass_weight\u001b[0m\u001b[1;33m=\u001b[0m\u001b[1;32mNone\u001b[0m\u001b[1;33m,\u001b[0m\u001b[1;33m\n\u001b[0m    \u001b[0msample_weight\u001b[0m\u001b[1;33m=\u001b[0m\u001b[1;32mNone\u001b[0m\u001b[1;33m,\u001b[0m\u001b[1;33m\n\u001b[0m    \u001b[0minitial_epoch\u001b[0m\u001b[1;33m=\u001b[0m\u001b[1;36m0\u001b[0m\u001b[1;33m,\u001b[0m\u001b[1;33m\n\u001b[0m    \u001b[0msteps_per_epoch\u001b[0m\u001b[1;33m=\u001b[0m\u001b[1;32mNone\u001b[0m\u001b[1;33m,\u001b[0m\u001b[1;33m\n\u001b[0m    \u001b[0mvalidation_steps\u001b[0m\u001b[1;33m=\u001b[0m\u001b[1;32mNone\u001b[0m\u001b[1;33m,\u001b[0m\u001b[1;33m\n\u001b[0m    \u001b[1;33m**\u001b[0m\u001b[0mkwargs\u001b[0m\u001b[1;33m,\u001b[0m\u001b[1;33m\n\u001b[0m\u001b[1;33m)\u001b[0m\u001b[1;33m\u001b[0m\u001b[1;33m\u001b[0m\u001b[0m\n\u001b[1;31mDocstring:\u001b[0m\nTrains the model for a fixed number of epochs (iterations on a dataset).\n\nArguments:\n    x: Input data. It could be:\n      - A Numpy array (or array-like), or a list of arrays\n        (in case the model has multiple inputs).\n      - A TensorFlow tensor, or a list of tensors\n        (in case the model has multiple inputs).\n      - A dict mapping input names to the corresponding array/tensors,\n        if the model has named inputs.\n      - A `tf.data` dataset or a dataset iterator.\n    y: Target data. Like the input data `x`,\n      it could be either Numpy array(s) or TensorFlow tensor(s).\n      It should be consistent with `x` (you cannot have Numpy inputs and\n      tensor targets, or inversely). If `x` is a dataset or dataset\n      iterator, `y` should not be specified\n      (since targets will be obtained from the iterator).\n    batch_size: Integer or `None`.\n        Number of samples per gradient update.\n        If unspecified, `batch_size` will default to 32.\n        Do not specify the `batch_size` if your data is in the\n        form of symbolic tensors, datasets, or dataset iterators\n        (since they generate batches).\n    epochs: Integer. Number of epochs to train the model.\n        An epoch is an iteration over the entire `x` and `y`\n        data provided.\n        Note that in conjunction with `initial_epoch`,\n        `epochs` is to be understood as \"final epoch\".\n        The model is not trained for a number of iterations\n        given by `epochs`, but merely until the epoch\n        of index `epochs` is reached.\n    verbose: Integer. 0, 1, or 2. Verbosity mode.\n        0 = silent, 1 = progress bar, 2 = one line per epoch.\n    callbacks: List of `keras.callbacks.Callback` instances.\n        List of callbacks to apply during training.\n        See [callbacks](/callbacks).\n    validation_split: Float between 0 and 1.\n        Fraction of the training data to be used as validation data.\n        The model will set apart this fraction of the training data,\n        will not train on it, and will evaluate\n        the loss and any model metrics\n        on this data at the end of each epoch.\n        The validation data is selected from the last samples\n        in the `x` and `y` data provided, before shuffling. This argument is\n        not supported when `x` is a dataset or a dataset iterator.\n    validation_data: Data on which to evaluate\n        the loss and any model metrics at the end of each epoch.\n        The model will not be trained on this data.\n        `validation_data` will override `validation_split`.\n        `validation_data` could be:\n          - tuple `(x_val, y_val)` of Numpy arrays or tensors\n          - tuple `(x_val, y_val, val_sample_weights)` of Numpy arrays\n          - dataset or a dataset iterator\n    shuffle: Boolean (whether to shuffle the training data\n        before each epoch) or str (for 'batch').\n        'batch' is a special option for dealing with the\n        limitations of HDF5 data; it shuffles in batch-sized chunks.\n        Has no effect when `steps_per_epoch` is not `None`.\n    class_weight: Optional dictionary mapping class indices (integers)\n        to a weight (float) value, used for weighting the loss function\n        (during training only).\n        This can be useful to tell the model to\n        \"pay more attention\" to samples from\n        an under-represented class.\n    sample_weight: Optional Numpy array of weights for\n        the training samples, used for weighting the loss function\n        (during training only). You can either pass a flat (1D)\n        Numpy array with the same length as the input samples\n        (1:1 mapping between weights and samples),\n        or in the case of temporal data,\n        you can pass a 2D array with shape\n        `(samples, sequence_length)`,\n        to apply a different weight to every timestep of every sample.\n        In this case you should make sure to specify\n        `sample_weight_mode=\"temporal\"` in `compile()`. This argument is not\n        supported when `x` is a dataset or a dataset iterator.\n    initial_epoch: Integer.\n        Epoch at which to start training\n        (useful for resuming a previous training run).\n    steps_per_epoch: Integer or `None`.\n        Total number of steps (batches of samples)\n        before declaring one epoch finished and starting the\n        next epoch. When training with input tensors such as\n        TensorFlow data tensors, the default `None` is equal to\n        the number of samples in your dataset divided by\n        the batch size, or 1 if that cannot be determined.\n    validation_steps: Only relevant if `steps_per_epoch`\n        is specified. Total number of steps (batches of samples)\n        to validate before stopping.\n    **kwargs: Used for backwards compatibility.\n\nReturns:\n    A `History` object. Its `History.history` attribute is\n    a record of training loss values and metrics values\n    at successive epochs, as well as validation loss values\n    and validation metrics values (if applicable).\n\nRaises:\n    RuntimeError: If the model was never compiled.\n    ValueError: In case of mismatch between the provided input data\n        and what the model expects.\n\u001b[1;31mFile:\u001b[0m      c:\\anaconda3\\lib\\site-packages\\tensorflow\\python\\keras\\engine\\training.py\n\u001b[1;31mType:\u001b[0m      method\n"
    }
   ],
   "source": [
    "model.fit?"
   ]
  },
  {
   "cell_type": "code",
   "execution_count": 29,
   "metadata": {
    "tags": []
   },
   "outputs": [
    {
     "output_type": "stream",
     "name": "stdout",
     "text": "Metrics Name: ['loss', 'acc']\n"
    }
   ],
   "source": [
    "# evaluate() 에 의해 반환되는 데이터의 종류 확인\n",
    "print(f\"Metrics Name: {model.metrics_names}\")"
   ]
  },
  {
   "cell_type": "code",
   "execution_count": 30,
   "metadata": {
    "tags": []
   },
   "outputs": [
    {
     "output_type": "stream",
     "name": "stdout",
     "text": "470/470 [==============================] - 0s 887us/step\n\nmodel.evaluate() -> [0.14892879115774277, 0.8510638285190502]\n"
    }
   ],
   "source": [
    "# model.evaluate() 의 결과\n",
    "ev = model.evaluate(X_train, Y_train)\n",
    "print(f\"\\nmodel.evaluate() -> {ev}\")"
   ]
  },
  {
   "cell_type": "markdown",
   "metadata": {},
   "source": [
    "결과를 출력합니다."
   ]
  },
  {
   "cell_type": "code",
   "execution_count": 31,
   "metadata": {
    "tags": []
   },
   "outputs": [
    {
     "output_type": "stream",
     "name": "stdout",
     "text": "Accuracy: 0.8511\n Loss: 0.14892879115774277\n Loss: 0.14892879115774277\n Loss:     0.1489\n"
    }
   ],
   "source": [
    "print(f\"Accuracy: {ev[1]:{0}.{4}}\")\n",
    "print(f\" Loss: {ev[0]}\")\n",
    "print(f\" Loss: {ev[0]:{10}}\")\n",
    "print(f\" Loss: {ev[0]:{10}.{4}}\")"
   ]
  },
  {
   "cell_type": "code",
   "execution_count": null,
   "metadata": {},
   "outputs": [],
   "source": []
  }
 ],
 "metadata": {
  "kernelspec": {
   "display_name": "Python 3.6.8 64-bit ('base': conda)",
   "language": "python",
   "name": "python_defaultSpec_1598855868559"
  },
  "language_info": {
   "codemirror_mode": {
    "name": "ipython",
    "version": 3
   },
   "file_extension": ".py",
   "mimetype": "text/x-python",
   "name": "python",
   "nbconvert_exporter": "python",
   "pygments_lexer": "ipython3",
   "version": "3.6.8-final"
  }
 },
 "nbformat": 4,
 "nbformat_minor": 2
}