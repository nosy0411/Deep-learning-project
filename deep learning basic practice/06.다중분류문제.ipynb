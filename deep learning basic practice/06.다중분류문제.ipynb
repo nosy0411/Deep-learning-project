{
 "cells": [
  {
   "cell_type": "markdown",
   "metadata": {},
   "source": [
    "# 06.다중분류문제\n",
    "\n",
    "# 아이리스 품종 예측\n",
    "<img src=\"https://thegoodpython.com/assets/images/iris-species.png\">"
   ]
  },
  {
   "cell_type": "markdown",
   "metadata": {},
   "source": [
    "### 아이리스 데이터\n",
    "- dataset/iris.csv\n",
    "\n",
    "### 데이터 설명\n",
    "* 샘플 수: 150\n",
    "* 속성 수: 4\n",
    "    - 컬럼 1: (sepal length) 꽃받침 길이\n",
    "    - 컬럼 2: (sepal width) 꽃받침 너비\n",
    "    - 컬럼 3: (petal length) 꽃잎 길이\n",
    "    - 컬럼 4: (petal width) 꽃잎 너비\n",
    "* 클래스: iris-setosa, iris-versicolor, iris-virginica\n",
    "\n",
    "### 클래스가 3개"
   ]
  },
  {
   "cell_type": "markdown",
   "metadata": {},
   "source": [
    "#### 필요 패키지 추가 설치\n",
    "```\n",
    "conda install scikit-learn\n",
    "```"
   ]
  },
  {
   "cell_type": "markdown",
   "metadata": {},
   "source": [
    "### 상관 그래프 "
   ]
  },
  {
   "cell_type": "code",
   "execution_count": null,
   "metadata": {},
   "outputs": [],
   "source": [
    "from keras.models import Sequential\n",
    "from keras.layers.core import Dense\n",
    "from keras.utils import np_utils\n",
    "from sklearn.preprocessing import LabelEncoder\n",
    "\n",
    "import pandas as pd\n",
    "import seaborn as sns\n",
    "import matplotlib.pyplot as plt\n",
    "import numpy\n",
    "import tensorflow as tf"
   ]
  },
  {
   "cell_type": "code",
   "execution_count": null,
   "metadata": {},
   "outputs": [],
   "source": [
    "# seed 값 설정\n",
    "seed = 0\n",
    "numpy.random.seed(seed)\n",
    "tf.set_random_seed(seed)\n",
    "\n",
    "# 데이터 입력\n",
    "df = pd.read_csv('./dataset/iris.csv', names = [\"sepal_length\", \"sepal_width\", \"petal_length\", \"petal_width\", \"species\"])\n",
    "\n",
    "# 그래프로 확인\n",
    "sns.pairplot(df, hue='species', palette='husl');\n",
    "plt.show()"
   ]
  },
  {
   "cell_type": "markdown",
   "metadata": {},
   "source": [
    "### 데이터프레임에서 데이터만 추출한 후 X와 Y로 분리"
   ]
  },
  {
   "cell_type": "code",
   "execution_count": null,
   "metadata": {},
   "outputs": [],
   "source": [
    "df.values"
   ]
  },
  {
   "cell_type": "code",
   "execution_count": null,
   "metadata": {},
   "outputs": [],
   "source": [
    "# 데이터 분류\n",
    "dataset = df.values\n",
    "X = dataset[:,0:4].astype(float)\n",
    "Y_obj = dataset[:,4]"
   ]
  },
  {
   "cell_type": "code",
   "execution_count": null,
   "metadata": {},
   "outputs": [],
   "source": [
    "X.dtype"
   ]
  },
  {
   "cell_type": "markdown",
   "metadata": {},
   "source": [
    "### 클래스의 레이블이 숫자가 아니고 문자이므로 손실 함수를 정의할 수 없음\n",
    "즉, 오차를 구할 수 없음\n",
    "\n",
    "\n",
    "따라서, 문자 레이블을 숫자로 변환해야 함\n",
    "```\n",
    "from sklearn.preprocessing import LabelEncoder\n",
    "```"
   ]
  },
  {
   "cell_type": "markdown",
   "metadata": {},
   "source": [
    "### 클래스가 2개가 아니고 3개이므로 레이블을 원 핫 인코딩으로 표현해야 함\n",
    "```\n",
    "from keras.utils import np_utils\n",
    "np_utils.to_categorical()\n",
    "```"
   ]
  },
  {
   "cell_type": "code",
   "execution_count": null,
   "metadata": {},
   "outputs": [],
   "source": [
    "# 문자열을 숫자로 변환\n",
    "e = LabelEncoder()\n",
    "e.fit(Y_obj)\n",
    "Y = e.transform(Y_obj)\n",
    "Y_encoded = np_utils.to_categorical(Y)"
   ]
  },
  {
   "cell_type": "code",
   "execution_count": null,
   "metadata": {},
   "outputs": [],
   "source": [
    "Y"
   ]
  },
  {
   "cell_type": "code",
   "execution_count": null,
   "metadata": {},
   "outputs": [],
   "source": [
    "Y_encoded"
   ]
  },
  {
   "cell_type": "markdown",
   "metadata": {},
   "source": [
    "### 출력층의 활성화 함수로 소프트맥스(softmax) 함수 사용\n",
    "#### 소프트맥스 함수\n",
    "* 입력을 총합이 항상 1인 형태로 변환\n",
    "* 이 출력이 교차 엔트로피를 통과하면 원 핫 인코딩 형태로 표현됨\n",
    "\n",
    "\n",
    "### 실젯값도 원 핫 인코딩, 예측값도 원 핫 인코딩으로 표현되므로 오차를 구할 수 있게 되고 학습할 수 있게 됨"
   ]
  },
  {
   "cell_type": "code",
   "execution_count": null,
   "metadata": {},
   "outputs": [],
   "source": [
    "# 모델의 설정\n",
    "model = Sequential()\n",
    "model.add(Dense(16,  input_dim=4, activation='relu'))\n",
    "model.add(Dense(3, activation='softmax'))\n",
    "\n",
    "# 모델 컴파일\n",
    "model.compile(loss='categorical_crossentropy',\n",
    "            optimizer='adam',\n",
    "            metrics=['accuracy'])\n",
    "\n",
    "# 모델 실행\n",
    "model.fit(X, Y_encoded, epochs=50, batch_size=1)\n",
    "\n",
    "# 결과 출력\n",
    "print(\"\\n Accuracy: %.4f\" % (model.evaluate(X, Y_encoded)[1]))"
   ]
  },
  {
   "cell_type": "code",
   "execution_count": null,
   "metadata": {},
   "outputs": [],
   "source": []
  }
 ],
 "metadata": {
  "kernelspec": {
   "display_name": "Python 3",
   "language": "python",
   "name": "python3"
  },
  "language_info": {
   "codemirror_mode": {
    "name": "ipython",
    "version": 3
   },
   "file_extension": ".py",
   "mimetype": "text/x-python",
   "name": "python",
   "nbconvert_exporter": "python",
   "pygments_lexer": "ipython3",
   "version": "3.7.5"
  }
 },
 "nbformat": 4,
 "nbformat_minor": 2
}
