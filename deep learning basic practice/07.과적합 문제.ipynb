{
 "cells": [
  {
   "cell_type": "markdown",
   "metadata": {},
   "source": [
    "# 07.과적합 문제\n",
    "\n",
    "### 훈련 데이터에만 잘 들어맞는 모델을 해결하는 방법은?"
   ]
  },
  {
   "cell_type": "markdown",
   "metadata": {},
   "source": [
    "# 초음파 광물 예측 문제\n",
    "\n",
    "### 광석과 일반 돌에 대해 음파 탐지기를 쏜 후 그 결과를 정리한 데이터를 바탕으로 광석과 일반 돌을 구분하는 문제\n",
    "- 고먼(Gorman)과 세즈노프스키(Sejnowski) (1988)"
   ]
  },
  {
   "cell_type": "markdown",
   "metadata": {},
   "source": [
    "### 광석과 일반 돌에 음파 탐지기를 쏜 후 결과를 측정하고 정리한 데이터\n",
    "- dataset/sonar.csv\n",
    "\n",
    "### 데이터 설명\n",
    "* 샘플 수: 208\n",
    "* 속성 수: 60\n",
    "* 클래스: 2 (R, M)"
   ]
  },
  {
   "cell_type": "code",
   "execution_count": null,
   "metadata": {},
   "outputs": [],
   "source": [
    "from keras.models import Sequential\n",
    "from keras.layers.core import Dense\n",
    "from sklearn.preprocessing import LabelEncoder\n",
    "\n",
    "import pandas as pd\n",
    "import numpy as np\n",
    "import tensorflow as tf"
   ]
  },
  {
   "cell_type": "code",
   "execution_count": null,
   "metadata": {},
   "outputs": [],
   "source": [
    "# seed 값 설정\n",
    "seed = 0\n",
    "np.random.seed(seed)\n",
    "tf.set_random_seed(seed)\n",
    "\n",
    "# 데이터 입력\n",
    "df = pd.read_csv('./dataset/sonar.csv', header=None)"
   ]
  },
  {
   "cell_type": "code",
   "execution_count": null,
   "metadata": {},
   "outputs": [],
   "source": [
    "df.describe()"
   ]
  },
  {
   "cell_type": "code",
   "execution_count": null,
   "metadata": {},
   "outputs": [],
   "source": [
    "# 데이터 개괄 보기\n",
    "df.info()"
   ]
  },
  {
   "cell_type": "code",
   "execution_count": null,
   "metadata": {},
   "outputs": [],
   "source": [
    "# 데이터의 일부분 미리 보기\n",
    "df.head()"
   ]
  },
  {
   "cell_type": "code",
   "execution_count": null,
   "metadata": {},
   "outputs": [],
   "source": [
    "# R: Rock, M: Mine\n",
    "df.iloc[:, 60].unique()"
   ]
  },
  {
   "cell_type": "code",
   "execution_count": null,
   "metadata": {},
   "outputs": [],
   "source": [
    "dataset = df.values\n",
    "X = dataset[:,0:60]\n",
    "Y_obj = dataset[:,60]\n",
    "\n",
    "# 문자열 변환\n",
    "e = LabelEncoder()\n",
    "e.fit(Y_obj)\n",
    "Y = e.transform(Y_obj)\n",
    "\n",
    "# 모델 설정\n",
    "model = Sequential()\n",
    "model.add(Dense(24,  input_dim=60, activation='relu'))\n",
    "model.add(Dense(10, activation='relu'))\n",
    "model.add(Dense(1, activation='sigmoid'))\n",
    "\n",
    "# 모델 컴파일\n",
    "model.compile(loss='mean_squared_error',\n",
    "              optimizer='adam',\n",
    "              metrics=['accuracy'])\n",
    "\n",
    "# 모델 실행\n",
    "model.fit(X, Y, epochs=200, batch_size=5)\n",
    "\n",
    "# 결과 출력\n",
    "print(\"\\n Accuracy: %.4f\" % (model.evaluate(X, Y)[1]))"
   ]
  },
  {
   "cell_type": "markdown",
   "metadata": {},
   "source": [
    "# 과적합(Overfit)\n",
    "* 모델이 학습 데이터셋 안에서는 일정 수준 이상의 예측 정확도를 보이지만 새로운 데이터에는 잘 들어맞지 않는 것\n",
    "\n",
    "\n",
    "* 모델의 학습이 일반화가 되지 않았음을 의미\n",
    "\n",
    "\n",
    "<img src=\"http://mblogthumb4.phinf.naver.net/20160507_203/cattree_studio_1462572034508z9XPu_PNG/overfitting-logreg-ex.png?type=w800\">\n",
    "\n",
    "* 원인\n",
    "  - 모델이 복잡함\n",
    "      - 모델의 변수가 복잡한 경우\n",
    "      - 신경망의 층과 노드가 너무 많은 경우\n",
    "      - 데이터의 특징(feature)가 너무 많은 경우\n",
    "  - 데이터가 부족함\n",
    "      - 데이터 건수가 부족\n",
    "      - 훈련(학습)셋과 테스트셋이 중복될 때"
   ]
  },
  {
   "cell_type": "markdown",
   "metadata": {},
   "source": [
    "### 과적합을 방지하려면\n",
    "1. 데이터를 학습(훈련)용 데이터셋과 테스트용 데이터셋으로 완전히 구분\n",
    "    - 훈련:테스트 비율 = 7:3 또는 8:2\n",
    "2. 훈련 데이터셋에 대하여 모델을 학습시킴\n",
    "3. 학습이 끝난 모델을 테스트셋에 대해 테스트하여 모델이 일반화가 잘 되었는지 확인\n",
    "    - 훈련셋에 대해서는 학습이 잘 되었지만 새로운 데이터에 대해서도 좋은 결과를 보여줄 것이라 확신할 수 없으므로 테스트셋으로 확인\n",
    "    - 테스트셋에 대해서도 80% 정확도가 나왔다는 것은 이 모델이 전혀 새로운 데이터에 대해서도 80%의 정확도로 분류 또는 예측을 할 것이라는 확률(믿음)을 의미하는 것\n",
    "4. 테스트셋에 대한 테스트 결과가 설정한 기준을 넘지 못하면 1. 단계부터 다시 수행\n",
    "    - 기존의 훈련셋과 테스트셋을 버리고(아주 중요!) 다시 훈련셋과 테스트셋으로 구분해야 함\n",
    "    - 하이퍼파라미터만 변경하고 기존의 훈련셋과 테스트셋을 재사용해서는 안됨!!!\n",
    "    - 필요하다면 데이터를 추가하는 것도 좋은 방법"
   ]
  },
  {
   "cell_type": "markdown",
   "metadata": {},
   "source": [
    "# 초음파 광물 예측: 훈련셋과 테스트셋 구분\n",
    "* 훈련셋과 테스트셋 구분\n",
    "```\n",
    "from sklearn.model_selection import train_test_split\n",
    "```"
   ]
  },
  {
   "cell_type": "code",
   "execution_count": null,
   "metadata": {},
   "outputs": [],
   "source": [
    "from keras.models import Sequential\n",
    "from keras.layers.core import Dense\n",
    "from sklearn.preprocessing import LabelEncoder\n",
    "from sklearn.model_selection import train_test_split\n",
    "\n",
    "import pandas as pd\n",
    "import numpy as np\n",
    "import tensorflow as tf\n",
    "\n",
    "# # seed 값 설정\n",
    "# seed = 0\n",
    "# np.random.seed(seed)\n",
    "# tf.set_random_seed(seed)\n",
    "\n",
    "df = pd.read_csv('./dataset/sonar.csv', header=None)\n",
    "\n",
    "dataset = df.values\n",
    "X = dataset[:,0:60]\n",
    "Y_obj = dataset[:,60]\n",
    "\n",
    "e = LabelEncoder()\n",
    "e.fit(Y_obj)\n",
    "Y = e.transform(Y_obj)"
   ]
  },
  {
   "cell_type": "markdown",
   "metadata": {},
   "source": [
    "### 학습 셋과 테스트 셋의 구분"
   ]
  },
  {
   "cell_type": "code",
   "execution_count": null,
   "metadata": {},
   "outputs": [],
   "source": [
    "Y_obj[:10]"
   ]
  },
  {
   "cell_type": "code",
   "execution_count": null,
   "metadata": {},
   "outputs": [],
   "source": [
    "Y"
   ]
  },
  {
   "cell_type": "code",
   "execution_count": null,
   "metadata": {},
   "outputs": [],
   "source": [
    "X"
   ]
  },
  {
   "cell_type": "code",
   "execution_count": null,
   "metadata": {},
   "outputs": [],
   "source": [
    "X_train, X_test, Y_train, Y_test = train_test_split(X, Y, test_size=0.3)"
   ]
  },
  {
   "cell_type": "code",
   "execution_count": null,
   "metadata": {},
   "outputs": [],
   "source": [
    "X.shape"
   ]
  },
  {
   "cell_type": "code",
   "execution_count": null,
   "metadata": {},
   "outputs": [],
   "source": [
    "X_train.shape, X_test.shape"
   ]
  },
  {
   "cell_type": "code",
   "execution_count": null,
   "metadata": {},
   "outputs": [],
   "source": [
    "train_test_split?"
   ]
  },
  {
   "cell_type": "code",
   "execution_count": null,
   "metadata": {},
   "outputs": [],
   "source": [
    "X_train.shape, X_test.shape"
   ]
  },
  {
   "cell_type": "code",
   "execution_count": null,
   "metadata": {},
   "outputs": [],
   "source": [
    "len(X_train) / len(X), len(X_test) / len(X)"
   ]
  },
  {
   "cell_type": "code",
   "execution_count": null,
   "metadata": {
    "scrolled": true
   },
   "outputs": [],
   "source": [
    "model = Sequential()\n",
    "model.add(Dense(24,  input_dim=60, activation='relu'))\n",
    "model.add(Dense(10, activation='relu'))\n",
    "model.add(Dense(1, activation='sigmoid'))\n",
    "\n",
    "model.compile(loss='binary_crossentropy',\n",
    "              optimizer='adam',\n",
    "              metrics=['accuracy']\n",
    "             )\n",
    "\n",
    "model.fit(X_train, Y_train, epochs=130, batch_size=5)\n",
    "\n",
    "# 테스트셋에 모델 적용\n",
    "print(\"\\n Test Accuracy: %.4f\" % (model.evaluate(X_test, Y_test)[1]))"
   ]
  },
  {
   "cell_type": "code",
   "execution_count": null,
   "metadata": {},
   "outputs": [],
   "source": [
    "model.evaluate(X_train, Y_train)[1]"
   ]
  },
  {
   "cell_type": "code",
   "execution_count": null,
   "metadata": {},
   "outputs": [],
   "source": [
    "model.evaluate(X_test, Y_test)[1]"
   ]
  },
  {
   "cell_type": "markdown",
   "metadata": {},
   "source": [
    "### 모델이 어느정도까지 복잡해져야 하나\n",
    "<img src=\"https://hackernoon.com/hn-images/1*vuZxFMi5fODz2OEcpG-S1g.png\">"
   ]
  },
  {
   "cell_type": "markdown",
   "metadata": {},
   "source": [
    "# 초음파 광물 예측: 은닉층의 노드 개수를 변화시키면서\n",
    "* 고먼과 세즈노프스키가 설계한 모델과 유사하게 모델 생성\n",
    "* 그리드 서치 방법론"
   ]
  },
  {
   "cell_type": "code",
   "execution_count": null,
   "metadata": {},
   "outputs": [],
   "source": [
    "from keras.models import Sequential\n",
    "from keras.layers.core import Dense\n",
    "from keras.utils import np_utils\n",
    "from sklearn.preprocessing import LabelEncoder\n",
    "from sklearn.model_selection import train_test_split\n",
    "\n",
    "import pandas as pd\n",
    "import numpy as np\n",
    "import tensorflow as tf\n",
    "\n",
    "# seed 값 설정\n",
    "# seed = 0\n",
    "# np.random.seed(seed)\n",
    "# tf.set_random_seed(seed)\n",
    "\n",
    "nodes = [2, 3, 6, 10, 16, 24, 34, 46]\n",
    "results = {}\n",
    "\n",
    "df = pd.read_csv('./dataset/sonar.csv', header=None)\n",
    "\n",
    "dataset = df.values\n",
    "X = dataset[:,0:60]\n",
    "Y_obj = dataset[:,60]\n",
    "\n",
    "e = LabelEncoder()\n",
    "e.fit(Y_obj)\n",
    "Y = e.transform(Y_obj)\n",
    "Y_encoded = np_utils.to_categorical(Y)"
   ]
  },
  {
   "cell_type": "code",
   "execution_count": null,
   "metadata": {},
   "outputs": [],
   "source": [
    "Y_obj[:10]"
   ]
  },
  {
   "cell_type": "code",
   "execution_count": null,
   "metadata": {},
   "outputs": [],
   "source": [
    "Y[:10]"
   ]
  },
  {
   "cell_type": "code",
   "execution_count": null,
   "metadata": {},
   "outputs": [],
   "source": [
    "Y_encoded[:10]"
   ]
  },
  {
   "cell_type": "markdown",
   "metadata": {},
   "source": [
    "### 그리드 서치"
   ]
  },
  {
   "cell_type": "code",
   "execution_count": null,
   "metadata": {},
   "outputs": [],
   "source": [
    "for node in nodes:\n",
    "    X_train, X_test, Y_train, Y_test = train_test_split(X, Y_encoded, test_size=0.3)\n",
    "\n",
    "    print(f'\\n노드 개수: {node}')\n",
    "    model = Sequential()\n",
    "    model.add(Dense(node, input_dim=60, activation='sigmoid'))\n",
    "    model.add(Dense(2, activation='softmax'))\n",
    "\n",
    "    model.compile(loss='binary_crossentropy',\n",
    "                  optimizer='adam',\n",
    "                  metrics=['accuracy']\n",
    "                 )\n",
    "\n",
    "    model.fit(X_train, Y_train, epochs=130, batch_size=5, verbose=0)\n",
    "\n",
    "    # 테스트셋에 모델 적용\n",
    "    results[node] = (model.evaluate(X_train, Y_train)[1], model.evaluate(X_test, Y_test)[1])\n",
    "    print(f'훈련 정확도: {results[node][0]:0.3}, 테스트 정확도: {results[node][1]:0.3}')\n",
    "    \n",
    "print('\\n\\n작업종료!!!')"
   ]
  },
  {
   "cell_type": "markdown",
   "metadata": {},
   "source": [
    "### 1 은닉층, [2, 3, 6, 12, 24] 은닉 노드"
   ]
  },
  {
   "cell_type": "code",
   "execution_count": null,
   "metadata": {},
   "outputs": [],
   "source": [
    "r = pd.DataFrame(results, index=['Train', 'Test']).T\n",
    "r"
   ]
  },
  {
   "cell_type": "code",
   "execution_count": null,
   "metadata": {},
   "outputs": [],
   "source": [
    "(1-r).plot()"
   ]
  },
  {
   "cell_type": "markdown",
   "metadata": {},
   "source": [
    "# 모델 저장\n",
    "학습이 잘 된 모델을 저장\n",
    "\n",
    "\n",
    "운영시스템에 모델을 로드하여 새로운 데이터에 대해 사용"
   ]
  },
  {
   "cell_type": "markdown",
   "metadata": {},
   "source": [
    "### 패키지 추가\n",
    "```\n",
    "conda install -n deeplearning h5py\n",
    "```"
   ]
  },
  {
   "cell_type": "code",
   "execution_count": null,
   "metadata": {},
   "outputs": [],
   "source": [
    "from keras.models import Sequential, load_model\n",
    "from keras.layers.core import Dense\n",
    "from sklearn.preprocessing import LabelEncoder\n",
    "\n",
    "import pandas as pd\n",
    "import numpy as np\n",
    "import tensorflow as tf\n",
    "\n",
    "# seed 값 설정\n",
    "seed = 0\n",
    "np.random.seed(seed)\n",
    "tf.set_random_seed(seed)\n",
    "\n",
    "df = pd.read_csv('./dataset/sonar.csv', header=None)\n",
    "\n",
    "dataset = df.values\n",
    "X = dataset[:,0:60]\n",
    "Y_obj = dataset[:,60]\n",
    "\n",
    "e = LabelEncoder()\n",
    "e.fit(Y_obj)\n",
    "Y = e.transform(Y_obj)\n",
    "\n",
    "# 학습셋과 테스트셋을 나눔\n",
    "from sklearn.model_selection import train_test_split\n",
    "\n",
    "X_train, X_test, Y_train, Y_test = train_test_split(X, Y, test_size=0.3, random_state=seed)\n",
    "\n",
    "model = Sequential()\n",
    "model.add(Dense(24,  input_dim=60, activation='relu'))\n",
    "model.add(Dense(10, activation='relu'))\n",
    "model.add(Dense(1, activation='sigmoid'))\n",
    "\n",
    "model.compile(loss='binary_crossentropy',\n",
    "              optimizer='adam',\n",
    "              metrics=['accuracy']\n",
    "             )\n",
    "\n",
    "model.fit(X_train, Y_train, epochs=130, batch_size=5)"
   ]
  },
  {
   "cell_type": "markdown",
   "metadata": {},
   "source": [
    "### 학습시킨 모델을 파일로 저장"
   ]
  },
  {
   "cell_type": "code",
   "execution_count": null,
   "metadata": {},
   "outputs": [],
   "source": [
    "model.save('my_model.h5')"
   ]
  },
  {
   "cell_type": "markdown",
   "metadata": {},
   "source": [
    "### 파일에 저장된 모델을 불러들여서 사용하기"
   ]
  },
  {
   "cell_type": "code",
   "execution_count": null,
   "metadata": {},
   "outputs": [],
   "source": [
    "%pwd"
   ]
  },
  {
   "cell_type": "code",
   "execution_count": null,
   "metadata": {},
   "outputs": [],
   "source": [
    "del model       # 테스트를 위해 메모리 내의 모델을 삭제"
   ]
  },
  {
   "cell_type": "code",
   "execution_count": null,
   "metadata": {},
   "outputs": [],
   "source": [
    "model.predict?"
   ]
  },
  {
   "cell_type": "code",
   "execution_count": null,
   "metadata": {},
   "outputs": [],
   "source": [
    "model = load_model('my_model.h5') # 모델을 새로 불러옴"
   ]
  },
  {
   "cell_type": "code",
   "execution_count": null,
   "metadata": {},
   "outputs": [],
   "source": [
    "print(\"\\n Test Accuracy: %.4f\" % (model.evaluate(X_test, Y_test)[1]))  # 불러온 모델로 테스트 실행"
   ]
  },
  {
   "cell_type": "code",
   "execution_count": null,
   "metadata": {},
   "outputs": [],
   "source": [
    "model.evaluate(X_train, Y_train)[1]"
   ]
  },
  {
   "cell_type": "markdown",
   "metadata": {},
   "source": [
    "# k-겹 교차 검증 (k-Fold Cross Validation)\n",
    "\n",
    "### 일반적으로 딥러닝에 사용할 충분히 많은 데이터를 확보하기 어렵다\n",
    "* 많지도 않은 데이터를 훈련셋과 테스트셋으로 나누어야 함\n",
    "* 과소적합의 우려\n",
    "\n",
    "### k겹 교차 검증을 사용하면 위 문제를 완화할 수 있다\n",
    "* 데이터셋을 k 겹(폴드)로 나누어서 하나씩 테스트셋으로 사용하고 나머지 겹을 합해서 훈련셋으로 사용하는 방법\n",
    "* 총 k 개의 결과가 나오고 이 결과들의 평균을 해당 에폭의 결과로 사용"
   ]
  },
  {
   "cell_type": "markdown",
   "metadata": {},
   "source": [
    "<img src=\"https://miro.medium.com/max/4984/1*me-aJdjnt3ivwAurYkB7PA.png\">"
   ]
  },
  {
   "cell_type": "markdown",
   "metadata": {},
   "source": [
    "# 초음파 광물 예측: k겹 교차 검증\n",
    "\n",
    "```\n",
    "from sklearn.model_selection import StratifiedKFold\n",
    "```"
   ]
  },
  {
   "cell_type": "code",
   "execution_count": null,
   "metadata": {},
   "outputs": [],
   "source": [
    "from keras.models import Sequential\n",
    "from keras.layers.core import Dense\n",
    "from sklearn.preprocessing import LabelEncoder\n",
    "from sklearn.model_selection import StratifiedKFold\n",
    "\n",
    "import numpy as np\n",
    "import pandas as pd\n",
    "import tensorflow as tf\n",
    "\n",
    "# seed 값 설정\n",
    "# seed = 0\n",
    "# np.random.seed(seed)\n",
    "# tf.set_random_seed(seed)\n",
    "\n",
    "df = pd.read_csv('./dataset/sonar.csv', header=None)\n",
    "\n",
    "dataset = df.values\n",
    "X = dataset[:,0:60]\n",
    "Y_obj = dataset[:,60]\n",
    "\n",
    "e = LabelEncoder()\n",
    "e.fit(Y_obj)\n",
    "Y = e.transform(Y_obj)"
   ]
  },
  {
   "cell_type": "markdown",
   "metadata": {},
   "source": [
    "### 10-Fold Cross Validation"
   ]
  },
  {
   "cell_type": "code",
   "execution_count": null,
   "metadata": {},
   "outputs": [],
   "source": [
    "n_fold = 10\n",
    "skf = StratifiedKFold(n_splits=n_fold, shuffle=True)"
   ]
  },
  {
   "cell_type": "markdown",
   "metadata": {},
   "source": [
    "### 폴드 개수 만큼 전체 에폭을 수행\n",
    "10 * 100 = 1000 epochs"
   ]
  },
  {
   "cell_type": "code",
   "execution_count": null,
   "metadata": {},
   "outputs": [],
   "source": [
    "# 빈 accuracy 배열\n",
    "accuracy = []\n",
    "\n",
    "# 모델의 설정, 컴파일, 실행\n",
    "for train, test in skf.split(X, Y):\n",
    "    model = Sequential()\n",
    "    model.add(Dense(24, input_dim=60, activation='relu'))\n",
    "    model.add(Dense(10, activation='relu'))\n",
    "    model.add(Dense(1, activation='sigmoid'))\n",
    "    model.compile(loss='binary_crossentropy',\n",
    "                  optimizer='adam',\n",
    "                  metrics=['accuracy'])\n",
    "    model.fit(X[train], Y[train], epochs=100, batch_size=5)\n",
    "    k_accuracy = \"%.4f\" % (model.evaluate(X[test], Y[test])[1])\n",
    "    accuracy.append(k_accuracy)\n",
    "\n",
    "# 결과 출력\n",
    "print(\"\\n %.f fold accuracy:\" % n_fold, accuracy)"
   ]
  },
  {
   "cell_type": "code",
   "execution_count": null,
   "metadata": {},
   "outputs": [],
   "source": [
    "skf.split?"
   ]
  },
  {
   "cell_type": "code",
   "execution_count": null,
   "metadata": {},
   "outputs": [],
   "source": [
    "np.array(accuracy, dtype=np.float32).mean()"
   ]
  },
  {
   "cell_type": "markdown",
   "metadata": {},
   "source": [
    "# 최적의 하이퍼파라미터를 결정하기 위한 k겹 교차 검증\n",
    "### 최적의 하이퍼파라미터를 찾을 때 사용\n",
    "\n",
    "<img src=\"https://scikit-learn.org/stable/_images/grid_search_cross_validation.png\">\n",
    "\n",
    "### 교차 검증과 그리드 서치를 사용한 매개변수(하이퍼파라미터) 선택과 모델 평가의 작업 흐름 \n",
    "\n",
    "<img src=\"data:image/png;base64,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\">\n",
    "\n"
   ]
  },
  {
   "cell_type": "code",
   "execution_count": null,
   "metadata": {},
   "outputs": [],
   "source": []
  }
 ],
 "metadata": {
  "kernelspec": {
   "display_name": "Python 3",
   "language": "python",
   "name": "python3"
  },
  "language_info": {
   "codemirror_mode": {
    "name": "ipython",
    "version": 3
   },
   "file_extension": ".py",
   "mimetype": "text/x-python",
   "name": "python",
   "nbconvert_exporter": "python",
   "pygments_lexer": "ipython3",
   "version": "3.7.5"
  }
 },
 "nbformat": 4,
 "nbformat_minor": 2
}
