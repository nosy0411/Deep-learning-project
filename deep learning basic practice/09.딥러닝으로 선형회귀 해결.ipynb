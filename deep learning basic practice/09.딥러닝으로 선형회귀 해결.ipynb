{
 "cells": [
  {
   "cell_type": "markdown",
   "metadata": {},
   "source": [
    "# 09.딥러닝으로 선형회귀 해결\n",
    "### 지금까지 주로 분류 문제를 살펴보았는데 회귀 문제도 딥러닝으로 해결해봅니다."
   ]
  },
  {
   "cell_type": "markdown",
   "metadata": {},
   "source": [
    "# 보스턴 집값 예측: 데이터 확인\n",
    "### 1978년 집 값에 가장 큰 영향을 미치는 것이 '깨끗한 공기'라는 연구 결과(하버드대학교 도시개발학과)를 위한 데이터셋\n",
    "* 환경과 집값의 변동을 보여주는 데이터셋 생성\n",
    "\n",
    "\n",
    "* dataset/housing.csv\n",
    "\n",
    "### 데이터 설명\n",
    "* 샘플 수: 506\n",
    "* 속성 수: 13\n",
    "    - 컬럼 1: (CRIM) 인구 1인당 범죄 발생 수\n",
    "    - 컬럼 2: (ZN) 25,000 평방 피트 이상의 주거 구역 비중\n",
    "    - 컬럼 3: (INDUS) 소매업 외 상업이 차지하는 면적 비율\n",
    "    - 컬럼 4: (CHAS) 찰스강 위치 변수(1: 강 주변, 0: 이외)\n",
    "    - 컬럼 5: (NOX) 일산화질소 농도\n",
    "    - 컬럼 6: (RM) 집의 평균 방 개수\n",
    "    - 컬럼 7: (AGE) 1940년 이전에 지어진 비율\n",
    "    - 컬럼 8: (DIS) 5가지 보스턴 시 고용 시설까지의 거리\n",
    "    - 컬럼 9: (RAD) 순환고속도로의 접근 용이성\n",
    "    - 컬럼 10: (TAX) 10,000 달러 당 부동산 세율 총계\n",
    "    - 컬럼 11: (PTRATIO) 지역별 학생과 교사 비율\n",
    "    - 컬럼 12: (B) 지역별 흑인 비율\n",
    "    - 컬럼 13: (LSTAT) 급여가 낮은 직업에 종사하는 인구 비율(%)\n",
    "    - 컬럼 14: 가격(단위: 1,000 달러)"
   ]
  },
  {
   "cell_type": "markdown",
   "metadata": {},
   "source": [
    "# 보스턴 집값 예측: 선형회귀 실행\n",
    "### 예측값 자체가 수치형 데이터이므로 출력증에 활성화 함수가 필요없음"
   ]
  },
  {
   "cell_type": "code",
   "execution_count": null,
   "metadata": {},
   "outputs": [],
   "source": [
    "from keras.models import Sequential\n",
    "from keras.layers import Dense\n",
    "from sklearn.model_selection import train_test_split\n",
    "\n",
    "import numpy as np\n",
    "import pandas as pd\n",
    "import tensorflow as tf\n",
    "\n",
    "# seed 값 설정\n",
    "seed = 0\n",
    "np.random.seed(seed)\n",
    "tf.set_random_seed(seed)\n",
    "\n",
    "df = pd.read_csv(\"./dataset/housing.csv\", delim_whitespace=True, header=None)\n",
    "\n",
    "dataset = df.values\n",
    "X = dataset[:,0:13]\n",
    "Y = dataset[:,13]\n",
    "\n",
    "X_train, X_test, Y_train, Y_test = train_test_split(X, Y, test_size=0.3, random_state=seed)"
   ]
  },
  {
   "cell_type": "markdown",
   "metadata": {},
   "source": [
    "### 출력층의 활성화 함수를 지정하지 않음에 유의"
   ]
  },
  {
   "cell_type": "code",
   "execution_count": null,
   "metadata": {},
   "outputs": [],
   "source": [
    "model = Sequential()\n",
    "model.add(Dense(30, input_dim=13, activation='relu'))\n",
    "model.add(Dense(6, activation='relu'))\n",
    "model.add(Dense(1))\n",
    "\n",
    "model.compile(loss='mean_squared_error',\n",
    "              optimizer='adam')\n",
    "\n",
    "model.fit(X_train, Y_train, epochs=200, batch_size=10)\n",
    "\n",
    "# 예측 값과 실제 값의 비교\n",
    "Y_prediction = model.predict(X_test).flatten()"
   ]
  },
  {
   "cell_type": "code",
   "execution_count": null,
   "metadata": {},
   "outputs": [],
   "source": [
    "p = model.predict(X_test)\n",
    "p.shape"
   ]
  },
  {
   "cell_type": "code",
   "execution_count": null,
   "metadata": {},
   "outputs": [],
   "source": [
    "Y_prediction.shape"
   ]
  },
  {
   "cell_type": "code",
   "execution_count": null,
   "metadata": {},
   "outputs": [],
   "source": [
    "Y_prediction[:10]"
   ]
  },
  {
   "cell_type": "code",
   "execution_count": null,
   "metadata": {},
   "outputs": [],
   "source": [
    "for i in range(10):\n",
    "    label = Y_test[i]\n",
    "    prediction = Y_prediction[i]\n",
    "    print(\"실제가격: {:.3f}, 예상가격: {:.3f}\".format(label, prediction))"
   ]
  },
  {
   "cell_type": "code",
   "execution_count": null,
   "metadata": {},
   "outputs": [],
   "source": []
  }
 ],
 "metadata": {
  "kernelspec": {
   "display_name": "Python 3",
   "language": "python",
   "name": "python3"
  },
  "language_info": {
   "codemirror_mode": {
    "name": "ipython",
    "version": 3
   },
   "file_extension": ".py",
   "mimetype": "text/x-python",
   "name": "python",
   "nbconvert_exporter": "python",
   "pygments_lexer": "ipython3",
   "version": "3.7.5"
  }
 },
 "nbformat": 4,
 "nbformat_minor": 2
}
